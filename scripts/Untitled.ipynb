{
 "cells": [
  {
   "cell_type": "code",
   "execution_count": 1,
   "metadata": {
    "collapsed": false,
    "scrolled": false
   },
   "outputs": [
    {
     "name": "stdout",
     "output_type": "stream",
     "text": [
      "2016-09-19 06:00:00 2016-09-19 10:00:00\n",
      "direction 0 2084\n",
      "direction 1 2084\n"
     ]
    }
   ],
   "source": [
    "import pandas as pd \n",
    "import numpy as np\n",
    "from datetime import timedelta,datetime\n",
    "from pandas.tseries.offsets import *\n",
    "\n",
    "import matplotlib.pylab as plt\n",
    "import sys \n",
    "\n",
    "def load_volume(fdir='training_20min_avg_volume.csv'):\n",
    "    df = pd.read_csv(fdir,date_parser=lambda x : pd.to_datetime(x,format=r'%Y/%m/%d %H:%M'),infer_datetime_format=True)\n",
    "    df.loc[:,'time_window_s']=pd.to_datetime(df['time_window_s'],format=r'%Y/%m/%d %H:%M:%S')\n",
    "    return df\n",
    "def plot_tollgate_volume(df,t_seq,k=1):\n",
    "    print(t_seq[0],t_seq[-1])\n",
    "    df = df[df['tollgate_id']==k][['time_window_s','direction','volume']].set_index('time_window_s')\n",
    "    print('direction 0',len(df[df['direction']==0]))\n",
    "#    print(df[df['direction']==0].loc[t_seq,:]['volume'])\n",
    "    plt.plot(df[df['direction']==0].loc[t_seq,:]['volume'])\n",
    "    plt.show()\n",
    "    print('direction 1',len(df[df['direction']==1]))\n",
    "    plt.plot(df[df['direction']==1].loc[t_seq,:]['volume'])\n",
    "    plt.show()\n",
    "    \n",
    "in_file = 'training_20min_avg_volume.csv'\n",
    "df = load_volume(in_file)\n",
    "t_seq = pd.date_range(start='09/19/2016 06:00',end='9/19/2016 10:00',freq='20Min')\n",
    "plot_tollgate_volume(df,t_seq,k=1)"
   ]
  },
  {
   "cell_type": "code",
   "execution_count": null,
   "metadata": {
    "collapsed": true
   },
   "outputs": [],
   "source": []
  }
 ],
 "metadata": {
  "kernelspec": {
   "display_name": "Python [Root]",
   "language": "python",
   "name": "Python [Root]"
  },
  "language_info": {
   "codemirror_mode": {
    "name": "ipython",
    "version": 3
   },
   "file_extension": ".py",
   "mimetype": "text/x-python",
   "name": "python",
   "nbconvert_exporter": "python",
   "pygments_lexer": "ipython3",
   "version": "3.5.2"
  }
 },
 "nbformat": 4,
 "nbformat_minor": 0
}
